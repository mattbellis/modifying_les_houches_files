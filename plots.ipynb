{
 "cells": [
  {
   "cell_type": "code",
   "execution_count": null,
   "metadata": {
    "collapsed": true
   },
   "outputs": [],
   "source": [
    "import numpy as np\n",
    "import math\n",
    "import pylhef\n",
    "import sys\n",
    "import matplotlib.pyplot as plt\n",
    "%matplotlib inline"
   ]
  },
  {
   "cell_type": "code",
   "execution_count": null,
   "metadata": {
    "collapsed": true
   },
   "outputs": [],
   "source": [
    "lhfile1 = pylhef.read('madgraph_ttbar_tWb.lhe')\n",
    "lhfile2 = pylhef.read('madgraph_ttbar_PS_tWb.lhe')"
   ]
  },
  {
   "cell_type": "code",
   "execution_count": null,
   "metadata": {},
   "outputs": [],
   "source": [
    "Tmom_t1 = []    #transverse momentum of top quark\n",
    "Tmom_t2 = []    #transverse momentum of top quark\n",
    "\n",
    "for event in lhfile1.events:      \n",
    "    particles=event.particles      #finds the index of the top quark\n",
    "    for particle in particles:\n",
    "        if particle.id == 6:\n",
    "            x = particle.p[1]\n",
    "            y = particle.p[2]\n",
    "            momentum = math.sqrt(x**2+y**2)\n",
    "            Tmom_t1.append(momentum)\n",
    "            \n",
    "for event in lhfile2.events:\n",
    "    particles=event.particles\n",
    "    for particle in particles:\n",
    "        if particle.id == 6:\n",
    "            x = particle.p[1]\n",
    "            y = particle.p[2]\n",
    "            momentum = math.sqrt(x**2+y**2)\n",
    "            Tmom_t2.append(momentum)\n",
    "\n",
    "bins = np.linspace(0,1200,70)         \n",
    "plt.hist(Tmom_t1, bins, alpha=0.5, label='top momentum')\n",
    "plt.hist(Tmom_t2, bins, alpha=0.5, label='top momentum PS')\n",
    "plt.legend(loc='upper right')\n",
    "plt.xlabel('Transverse Momentum'), plt.ylabel('frequency')\n",
    "plt.title('Transverse Momentum of Top Quark')\n"
   ]
  },
  {
   "cell_type": "code",
   "execution_count": null,
   "metadata": {},
   "outputs": [],
   "source": [
    "Tmom_W1 = []    #transverse momentum of top quark\n",
    "Tmom_W2 = []    #transverse momentum of top quark\n",
    "\n",
    "for event in lhfile1.events:      \n",
    "    particles=event.particles      #finds the index of the top quark\n",
    "    for particle in particles:\n",
    "        if particle.id == 24:\n",
    "            x = particle.p[1]\n",
    "            y = particle.p[2]\n",
    "            momentum = math.sqrt(x**2+y**2)\n",
    "            Tmom_W1.append(momentum)\n",
    "            \n",
    "for event in lhfile2.events:\n",
    "    particles=event.particles\n",
    "    for particle in particles:\n",
    "        if particle.id == 24:\n",
    "            x = particle.p[1]\n",
    "            y = particle.p[2]\n",
    "            momentum = math.sqrt(x**2+y**2)\n",
    "            Tmom_W2.append(momentum)\n",
    "\n",
    "bins = np.linspace(0,1000,70)         \n",
    "plt.hist(Tmom_W1, bins, alpha=0.5, label='W momentum')\n",
    "plt.hist(Tmom_W2, bins, alpha=0.5, label='W momentum PS')\n",
    "plt.legend(loc='upper right')\n",
    "plt.xlabel('Transverse Momentum'), plt.ylabel('frequency')\n",
    "plt.title('Transverse Momentum of W boson')"
   ]
  },
  {
   "cell_type": "code",
   "execution_count": null,
   "metadata": {},
   "outputs": [],
   "source": [
    "Tmom_b1 = []    #transverse momentum of top quark\n",
    "Tmom_b2 = []    #transverse momentum of top quark\n",
    "\n",
    "for event in lhfile1.events:      \n",
    "    particles=event.particles      #finds the index of the top quark\n",
    "    for particle in particles:\n",
    "        if particle.id == 5:\n",
    "            x = particle.p[1]\n",
    "            y = particle.p[2]\n",
    "            momentum = math.sqrt(x**2+y**2)\n",
    "            Tmom_b1.append(momentum)\n",
    "            \n",
    "for event in lhfile2.events:\n",
    "    particles=event.particles\n",
    "    for particle in particles:\n",
    "        if particle.id == 5:\n",
    "            x = particle.p[1]\n",
    "            y = particle.p[2]\n",
    "            momentum = math.sqrt(x**2+y**2)\n",
    "            Tmom_b2.append(momentum)\n",
    "\n",
    "bins = np.linspace(0,700,70)         \n",
    "plt.hist(Tmom_b1, bins, alpha=0.5, label='b momentum')\n",
    "plt.hist(Tmom_b2, bins, alpha=0.5, label='b momentum PS')\n",
    "plt.legend(loc='upper right')\n",
    "plt.xlabel('Transverse Momentum'), plt.ylabel('frequency')\n",
    "plt.title('Transverse Momentum of bottom quark')"
   ]
  },
  {
   "cell_type": "code",
   "execution_count": null,
   "metadata": {
    "collapsed": true
   },
   "outputs": [],
   "source": []
  }
 ],
 "metadata": {
  "kernelspec": {
   "display_name": "Python 3",
   "language": "python",
   "name": "python3"
  },
  "language_info": {
   "codemirror_mode": {
    "name": "ipython",
    "version": 3
   },
   "file_extension": ".py",
   "mimetype": "text/x-python",
   "name": "python",
   "nbconvert_exporter": "python",
   "pygments_lexer": "ipython3",
   "version": "3.6.1"
  }
 },
 "nbformat": 4,
 "nbformat_minor": 2
}
