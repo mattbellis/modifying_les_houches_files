{
 "cells": [
  {
   "cell_type": "code",
   "execution_count": null,
   "metadata": {},
   "outputs": [],
   "source": [
    "import numpy as np\n",
    "import matplotlib.pylab as plt\n",
    "import pylhef\n",
    "\n",
    "import sys\n",
    "\n",
    "%matplotlib notebook"
   ]
  },
  {
   "cell_type": "code",
   "execution_count": null,
   "metadata": {},
   "outputs": [],
   "source": [
    "lhefile = pylhef.read('test_events.lhe')\n"
   ]
  },
  {
   "cell_type": "code",
   "execution_count": null,
   "metadata": {},
   "outputs": [],
   "source": [
    "pts = []\n",
    "\n",
    "for event in lhefile.events:\n",
    "    particles = event.particles\n",
    "\n",
    "    for particle in particles:\n",
    "        if particle.id == 6:\n",
    "            p = particle.p\n",
    "            pt = np.sqrt(p[1]*p[1] + p[2]*p[2])\n",
    "            pts.append(pt)\n",
    "\n",
    "\n",
    "plt.figure()\n",
    "plt.hist(pts,bins=50)\n",
    "plt.show()\n"
   ]
  },
  {
   "cell_type": "markdown",
   "metadata": {
    "collapsed": true
   },
   "source": [
    "# Challenge!\n",
    "\n",
    "Make a plot of the transverse momentum ($p_T$) of the top quark and of the anti-top quark. \n",
    "\n",
    "$$p_T = \\sqrt{p_x^2 + p_y^2}$$"
   ]
  },
  {
   "cell_type": "code",
   "execution_count": null,
   "metadata": {},
   "outputs": [],
   "source": []
  }
 ],
 "metadata": {
  "kernelspec": {
   "display_name": "Python 3",
   "language": "python",
   "name": "python3"
  },
  "language_info": {
   "codemirror_mode": {
    "name": "ipython",
    "version": 3
   },
   "file_extension": ".py",
   "mimetype": "text/x-python",
   "name": "python",
   "nbconvert_exporter": "python",
   "pygments_lexer": "ipython3",
   "version": "3.6.3"
  }
 },
 "nbformat": 4,
 "nbformat_minor": 2
}
