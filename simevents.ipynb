{
 "cells": [
  {
   "cell_type": "code",
   "execution_count": null,
   "metadata": {
    "collapsed": true
   },
   "outputs": [],
   "source": [
    "import numpy as np\n",
    "import matplotlib.pylab as plt\n",
    "import pylhef\n",
    "import sys\n",
    "%matplotlib notebook\n",
    "\n",
    "lhfile = pylhef.read('test_events.lhe')"
   ]
  },
  {
   "cell_type": "code",
   "execution_count": null,
   "metadata": {},
   "outputs": [],
   "source": [
    "sim_events = []\n",
    "\n",
    "for event in lhfile.events:\n",
    "    part = event.particles[2]\n",
    "    pid = part.id\n",
    "    inout = 1\n",
    "    fmom = part.first_mother\n",
    "    lmom = part.last_mother\n",
    "    col1 = part.color[0]\n",
    "    col2 = part.color[1]\n",
    "    px = part.p[1]\n",
    "    py = part.p[2]\n",
    "    pz = part.p[3]\n",
    "    energy = part.p[0]\n",
    "    mas = part.mass\n",
    "    lt = part.lifetime\n",
    "    spi = part.spin\n",
    "    \n",
    "    simpart = [pid,inout,fmom,lmom,col1,col2,px,py,pz,energy,mas,lt,spi]\n",
    "    sim_events.append(simpart)"
   ]
  },
  {
   "cell_type": "code",
   "execution_count": null,
   "metadata": {},
   "outputs": [],
   "source": [
    "test=open('test_events.lhe','r')\n",
    "file=[]\n",
    "\n",
    "for line in test:\n",
    "    file.append(line)\n",
    "    \n",
    "lines=[i for i,x in enumerate(file) if x=='<event>\\n']\n",
    "len(lines) # = 94\n",
    "\n",
    "sims=[]\n",
    "n=0\n",
    "while n<=len(lines):\n",
    "    if n==0:\n",
    "        place = lines[n]+5\n",
    "        sims.append(file[0:place])\n",
    "        sims.append(sim_events[n])\n",
    "    elif n < len(lines):\n",
    "        place = lines[n]+5\n",
    "        last = lines[n-1]+5\n",
    "        sims.append(file[last:place])\n",
    "        sims.append(sim_events[n])\n",
    "    else:\n",
    "        last = lines[n-1]+5\n",
    "        sims.append(file[last:])\n",
    "    n=n+1"
   ]
  },
  {
   "cell_type": "code",
   "execution_count": null,
   "metadata": {
    "collapsed": true
   },
   "outputs": [],
   "source": []
  }
 ],
 "metadata": {
  "kernelspec": {
   "display_name": "Python 3",
   "language": "python",
   "name": "python3"
  },
  "language_info": {
   "codemirror_mode": {
    "name": "ipython",
    "version": 3
   },
   "file_extension": ".py",
   "mimetype": "text/x-python",
   "name": "python",
   "nbconvert_exporter": "python",
   "pygments_lexer": "ipython3",
   "version": "3.6.1"
  }
 },
 "nbformat": 4,
 "nbformat_minor": 2
}
