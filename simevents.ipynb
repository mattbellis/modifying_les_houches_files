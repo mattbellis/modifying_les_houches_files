{
 "cells": [
  {
   "cell_type": "code",
   "execution_count": null,
   "metadata": {
    "collapsed": true
   },
   "outputs": [],
   "source": [
    "import numpy as np\n",
    "import pylhef\n",
    "import sys\n",
    "from decimal import Decimal\n"
   ]
  },
  {
   "cell_type": "code",
   "execution_count": null,
   "metadata": {},
   "outputs": [],
   "source": [
    "lhfile = pylhef.read('test_events.lhe')\n",
    "\n",
    "sim_events = []\n",
    "\n",
    "for event in lhfile.events:             # iterates through all events, modifies existing charactersistics of top quark\n",
    "    part = event.particles[2]\n",
    "    pid = part.id\n",
    "    inout = 1\n",
    "    fmom = part.first_mother\n",
    "    lmom = part.last_mother\n",
    "    col1 = part.color[0]\n",
    "    col2 = part.color[1]\n",
    "    px = part.p[1]\n",
    "    py = part.p[2]\n",
    "    pz = part.p[3]\n",
    "    energy = part.p[0]\n",
    "    mas = part.mass\n",
    "    lt = part.lifetime\n",
    "    spi = part.spin\n",
    "                      \n",
    "    # converts all inputs to strings, converts relevant items to scientific notation\n",
    "    s_part = str(part)\n",
    "    s_pid = str(pid)\n",
    "    s_inout = str(inout)\n",
    "    s_fmom = str(fmom)\n",
    "    s_lmom = str(lmom)\n",
    "    s_col1 = str(col1)\n",
    "    s_col2 = str(col2)\n",
    "    s_px = '%.10e' % Decimal(px)\n",
    "    s_py = '%.10e' % Decimal(py)\n",
    "    s_pz = '%.10e' % Decimal(pz)\n",
    "    s_energy = '%.10e' % Decimal(energy)\n",
    "    s_mas = '%.10e' % Decimal(mas) \n",
    "    s_lt = '%.4e' % Decimal(lt)\n",
    "    s_spi = '%.4e' % Decimal(spi)    \n",
    "    \n",
    "    simpart = [s_pid,s_inout,s_fmom,s_lmom,s_col1,s_col2,s_px,s_py,s_pz,s_energy,s_mas,s_lt,s_spi]        \n",
    "    sim_events.append(simpart)                      # writes simulated particle to entry in list"
   ]
  },
  {
   "cell_type": "code",
   "execution_count": null,
   "metadata": {},
   "outputs": [],
   "source": [
    "# changes num values of simulated particles to string\n",
    "\n",
    "sim_events[0]     \n",
    "sim_events_str = []\n",
    "for n in range(len(sim_events)):\n",
    "    string = ' '.join(str(e) for e in sim_events[n]),'\\n'\n",
    "    sim_events_str.append(string)\n",
    "    "
   ]
  },
  {
   "cell_type": "code",
   "execution_count": null,
   "metadata": {
    "collapsed": true
   },
   "outputs": [],
   "source": [
    "test=open('test_events.lhe','r')\n",
    "file=[]\n",
    "\n",
    "output = \"\"\n",
    "for line in test:\n",
    "    file.append(line)\n",
    "\n",
    "# finds line number in original lhe file where each event starts\n",
    "lines=[i for i,x in enumerate(file) if x=='<event>\\n']\n",
    "len(lines) # = 94\n",
    "\n",
    "sims=[]\n",
    "n=0\n",
    "while n<=len(lines):\n",
    "    if n==0:                               # writes header up to first event as first entry in list sims\n",
    "        place = lines[n]+6                 ## writes first event and first simulated particle to list\n",
    "        sims.append(file[0:place])\n",
    "        sims.append(sim_events_str[n])\n",
    "    elif n < len(lines):                  # writes each event and respective simulated particle to list\n",
    "        place = lines[n]+6\n",
    "        last = lines[n-1]+6\n",
    "        sims.append(file[last:place])\n",
    "        sims.append(sim_events_str[n])\n",
    "    else:                                      # writes last few lines of last event to list\n",
    "        last = lines[n-1]+6\n",
    "        sims.append(file[last:len(file)-1])\n",
    "    n=n+1\n",
    "    \n",
    "head = sims[0][0:-6]               # establishes header\n",
    "foot = '</LesHouchesEvents>'       # establishes footer"
   ]
  },
  {
   "cell_type": "code",
   "execution_count": null,
   "metadata": {
    "collapsed": true
   },
   "outputs": [],
   "source": [
    "# prepares header and footer in proper form\n",
    "header = ('').join(head)\n",
    "e1 = ('').join(sims[0][-6:last])\n",
    "\n",
    "# writes strings to new file\n",
    "f = open('simulated_event.txt', 'w')\n",
    "f.write(header)\n",
    "f.write(e1)\n",
    "\n",
    "for n in range(1,len(sims)):       # iterates entries of sims (excluding header/footer), writes the strings to file\n",
    "    fix = ('').join(sims[n])\n",
    "    f.write(fix)\n",
    "\n",
    "f.write(foot)\n",
    "\n",
    "f.close()\n"
   ]
  },
  {
   "cell_type": "code",
   "execution_count": null,
   "metadata": {
    "collapsed": true
   },
   "outputs": [],
   "source": []
  },
  {
   "cell_type": "markdown",
   "metadata": {},
   "source": [
    "Myrl, can you figure out what all this stuff is and make notes of it here. \n",
    "\n",
    "\n"
   ]
  },
  {
   "cell_type": "code",
   "execution_count": null,
   "metadata": {},
   "outputs": [],
   "source": [
    "'''\n",
    "<event>\n",
    " 4      1 +5.0558200e+02 2.08121300e+02 7.54677100e-03 1.14306200e-01\n",
    "       21 -1    0    0  503  502 +0.0000000000e+00 +0.0000000000e+00 +4.6699672078e+02 4.6699672078e+02 0.0000000000e+00 0.0000e+00 -1.0000e+00\n",
    "       21 -1    0    0  501  503 -0.0000000000e+00 -0.0000000000e+00 -1.7306846547e+02 1.7306846547e+02 0.0000000000e+00 0.0000e+00 -1.0000e+00\n",
    "        6  1    1    2  501    0 -1.0549343684e+02 +4.7503664050e+01 +3.6498091942e+02 4.2014941967e+02 1.7300000000e+02 0.0000e+00 -1.0000e+00\n",
    "       -6  1    1    2    0  502 +1.0549343684e+02 -4.7503664050e+01 -7.1052664100e+01 2.1991576658e+02 1.7300000000e+02 0.0000e+00 -1.0000e+00\n",
    "<mgrwt>\n",
    "<rscale>  2 0.20812127E+03</rscale>\n",
    "<asrwt>0</asrwt>\n",
    "<pdfrwt beam=\"1\">  1       21 0.71845649E-01 0.20812127E+03</pdfrwt>\n",
    "<pdfrwt beam=\"2\">  1       21 0.26625918E-01 0.20812127E+03</pdfrwt>\n",
    "<totfact> 0.23273598E+04</totfact>\n",
    "</mgrwt>\n",
    "</event>\n",
    "'''"
   ]
  },
  {
   "cell_type": "code",
   "execution_count": null,
   "metadata": {
    "collapsed": true
   },
   "outputs": [],
   "source": [
    "### To do: \n",
    "#\n",
    "#  lines containing simulated particle events need to be formatted:\n",
    "##      fix spacing\n",
    "##      add signs on positive decimal values  \n",
    "#"
   ]
  },
  {
   "cell_type": "code",
   "execution_count": null,
   "metadata": {
    "collapsed": true
   },
   "outputs": [],
   "source": []
  }
 ],
 "metadata": {
  "kernelspec": {
   "display_name": "Python 3",
   "language": "python",
   "name": "python3"
  },
  "language_info": {
   "codemirror_mode": {
    "name": "ipython",
    "version": 3
   },
   "file_extension": ".py",
   "mimetype": "text/x-python",
   "name": "python",
   "nbconvert_exporter": "python",
   "pygments_lexer": "ipython3",
   "version": "3.6.1"
  }
 },
 "nbformat": 4,
 "nbformat_minor": 2
}
