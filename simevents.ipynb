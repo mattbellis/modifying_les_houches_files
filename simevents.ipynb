{
 "cells": [
  {
   "cell_type": "code",
   "execution_count": 1,
   "metadata": {
    "collapsed": true
   },
   "outputs": [],
   "source": [
    "import numpy as np\n",
    "import pylhef\n",
    "import sys\n",
    "from decimal import Decimal\n"
   ]
  },
  {
   "cell_type": "code",
   "execution_count": 2,
   "metadata": {
    "collapsed": true
   },
   "outputs": [],
   "source": [
    "lhfile = pylhef.read('test_events.lhe')\n",
    "\n",
    "sim_events = []\n",
    "eventlength = []\n",
    "tqlist=[]\n",
    "\n",
    "for event in lhfile.events:       # iterates through all events, modifies existing charactersistics of top quark\n",
    "    \n",
    "    tq = 0\n",
    "    particles=event.particles      #finds the index of the top quark\n",
    "    eventlength.append(len(particles))\n",
    "    for particle in particles:\n",
    "        if particle.id == 6:\n",
    "            tqlist.append(tq)\n",
    "            break\n",
    "        else:\n",
    "            tq += 1\n",
    "    \n",
    "   # defines values for each entry in simulated event\n",
    "    part = event.particles[tq] \n",
    "    pid = part.id\n",
    "    inout = 1\n",
    "    fmom = tq+1\n",
    "    lmom = tq+1\n",
    "    col1 = part.color[0]\n",
    "    col2 = part.color[1]\n",
    "    px = part.p[1]/2\n",
    "    py = part.p[2]/2\n",
    "    pz = part.p[3]/2\n",
    "    energy = part.p[0]/2\n",
    "    mas = part.mass\n",
    "    lt = part.lifetime\n",
    "    spi = part.spin\n",
    "                      \n",
    "    # converts all inputs to strings, converts relevant items to scientific notation\n",
    "    s_part = str(part)\n",
    "    s_pid = str(pid)\n",
    "    s_inout = str(inout)\n",
    "    s_fmom = str(fmom)\n",
    "    s_lmom = str(lmom)\n",
    "    s_col1 = str(col1)\n",
    "    s_col2 = str(col2)\n",
    "    s_px = '%.10e' % Decimal(px)\n",
    "    if px > 0:\n",
    "        s_px='+' + s_px\n",
    "    s_py = '%.10e' % Decimal(py)\n",
    "    if py > 0:\n",
    "        s_py = '+' + s_py\n",
    "    s_pz = '%.10e' % Decimal(pz)\n",
    "    if pz > 0:\n",
    "        s_pz = '+' + s_pz\n",
    "    s_energy = '%.10e' % Decimal(energy)\n",
    "    s_mas = '%.10e' % Decimal(mas) \n",
    "    s_lt = '%.4e' % Decimal(lt)\n",
    "    s_spi = '%.4e' % Decimal(spi)    \n",
    "    \n",
    "    simpart = [s_pid,s_inout,s_fmom,s_lmom,s_col1,s_col2,s_px,s_py,s_pz,s_energy,s_mas,s_lt,s_spi]        \n",
    "    sim_events.append(simpart)                      # writes simulated particle to entry in list\n"
   ]
  },
  {
   "cell_type": "code",
   "execution_count": 3,
   "metadata": {
    "collapsed": true
   },
   "outputs": [],
   "source": [
    "# changes num values of simulated particles to string\n",
    "\n",
    "sim_events[0]     \n",
    "sim_events_str = []\n",
    "for n in range(len(sim_events)):\n",
    "    #string = ' '.join(str(e) for e in sim_events[n]),'\\n'\n",
    "    ev = sim_events[n]\n",
    "    string = \"%9d %2d %4s %4s %4s %4s %3s %3s %3s %3s  %2s %3s %3s\\n\" % (int(ev[0]),int(ev[1]),ev[2],ev[3],ev[4],ev[5],ev[6],ev[7],ev[8],ev[9],ev[10],ev[11],ev[12])\n",
    "    \n",
    "    sim_events_str.append(string)\n",
    "\n",
    "#print(sim_events_str)"
   ]
  },
  {
   "cell_type": "code",
   "execution_count": 4,
   "metadata": {
    "collapsed": true
   },
   "outputs": [],
   "source": [
    "test=open('test_events.lhe','r')\n",
    "file=[]\n",
    "\n",
    "output = \"\"\n",
    "for line in test:\n",
    "    file.append(line)\n",
    "\n",
    "# finds line number in original lhe file where each event starts\n",
    "lines=[i for i,x in enumerate(file) if x=='<event>\\n']\n",
    "len(lines) # = 94\n",
    "\n",
    "toplist=[]\n",
    "for u in range(len(lines)):\n",
    "    top = lines[u]+2+tqlist[u]\n",
    "    topparticle = file[top]\n",
    "    topparticle = topparticle.replace(\" 6  1 \",\" 6  2 \")\n",
    "    toplist.append(topparticle)\n",
    "    \n",
    "    \n",
    "sims=[]\n",
    "n=0\n",
    "while n<=len(lines):\n",
    "    if n==0:                               # writes header up to first event as first entry in list sims\n",
    "        place = lines[n]+2+eventlength[n]    ## writes first event and first simulated particle to list\n",
    "        topplace = lines[n]+2+tqlist[n]\n",
    "        sims.append(file[0:topplace])\n",
    "        sims.append(toplist[n])\n",
    "        sims.append(file[topplace+1:place])\n",
    "        sims.append(sim_events_str[n])\n",
    "    elif n < len(lines):                  # writes each event and respective simulated particle to list\n",
    "        place = lines[n]+2+eventlength[n]\n",
    "        topplace = lines[n]+2+tqlist[n]\n",
    "        last = lines[n-1]+2+eventlength[n-1]\n",
    "        sims.append(file[last:topplace])\n",
    "        sims.append(toplist[n])\n",
    "        sims.append(file[topplace+1:place])\n",
    "        sims.append(sim_events_str[n])\n",
    "    else:                                      # writes last few lines of last event to list\n",
    "        last = lines[n-1]+2+eventlength[n-1]\n",
    "        sims.append(file[last:len(file)-1])\n",
    "    n=n+1\n",
    "    \n",
    "head = sims[0][0:-6]               # establishes header\n",
    "foot = '</LesHouchesEvents>'       # establishes footer\n"
   ]
  },
  {
   "cell_type": "code",
   "execution_count": 5,
   "metadata": {
    "collapsed": true
   },
   "outputs": [],
   "source": [
    "# prepares header and footer in proper form\n",
    "header = ('').join(head)\n",
    "e1 = ('').join(sims[0][-6:last])\n",
    "\n",
    "# writes strings to new file\n",
    "f = open('simulated_event.lhe', 'w')\n",
    "f.write(header)\n",
    "f.write(e1)\n",
    "\n",
    "for n in range(1,len(sims)):       # iterates entries of sims (excluding header/footer), writes the strings to file\n",
    "    fix = ('').join(sims[n])\n",
    "    f.write(fix)\n",
    "\n",
    "f.write(foot)\n",
    "\n",
    "f.close()\n"
   ]
  },
  {
   "cell_type": "markdown",
   "metadata": {
    "collapsed": true
   },
   "source": []
  },
  {
   "cell_type": "markdown",
   "metadata": {},
   "source": [
    "Myrl, can you figure out what all this stuff is and make notes of it here. \n",
    "\n",
    "\n"
   ]
  },
  {
   "cell_type": "code",
   "execution_count": 6,
   "metadata": {
    "collapsed": true
   },
   "outputs": [],
   "source": [
    "'''\n",
    "<event>\n",
    " 4      1 +5.0558200e+02 2.08121300e+02 7.54677100e-03 1.14306200e-01\n",
    "       21 -1    0    0  503  502 +0.0000000000e+00 +0.0000000000e+00 +4.6699672078e+02 4.6699672078e+02 0.0000000000e+00 0.0000e+00 -1.0000e+00\n",
    "       21 -1    0    0  501  503 -0.0000000000e+00 -0.0000000000e+00 -1.7306846547e+02 1.7306846547e+02 0.0000000000e+00 0.0000e+00 -1.0000e+00\n",
    "        6  1    1    2  501    0 -1.0549343684e+02 +4.7503664050e+01 +3.6498091942e+02 4.2014941967e+02 1.7300000000e+02 0.0000e+00 -1.0000e+00\n",
    "       -6  1    1    2    0  502 +1.0549343684e+02 -4.7503664050e+01 -7.1052664100e+01 2.1991576658e+02 1.7300000000e+02 0.0000e+00 -1.0000e+00\n",
    "<mgrwt>\n",
    "<rscale>  2 0.20812127E+03</rscale>\n",
    "<asrwt>0</asrwt>\n",
    "<pdfrwt beam=\"1\">  1       21 0.71845649E-01 0.20812127E+03</pdfrwt>\n",
    "<pdfrwt beam=\"2\">  1       21 0.26625918E-01 0.20812127E+03</pdfrwt>\n",
    "<totfact> 0.23273598E+04</totfact>\n",
    "</mgrwt>\n",
    "</event>\n",
    "''';"
   ]
  },
  {
   "cell_type": "code",
   "execution_count": 7,
   "metadata": {
    "collapsed": true
   },
   "outputs": [],
   "source": [
    "### To do: \n",
    "#\n",
    "#  lines containing simulated particle events need to be formatted:\n",
    "##      fix spacing\n",
    "##      add signs on positive decimal values  \n",
    "\n",
    "\n",
    "# For the columns\n",
    "# PID\n",
    "# Input (-1), temporary (2), final state (1)\n",
    "# Next is first mother. For a particle *created* in a collision, there will be two values. This is the index and the index starts at 1\n",
    "# Next is second mother. For a particle *created* in a collision, there will be two values. This is the index and the index starts at 1\n",
    "# Color charge\n",
    "# Anticolor charge\n",
    "# px\n",
    "# py\n",
    "# pz\n",
    "# Energy\n",
    "# Mass\n",
    "# Displaced vertex\n",
    "# Helicity\n",
    "\n",
    "\n",
    "\n",
    "\n"
   ]
  },
  {
   "cell_type": "code",
   "execution_count": 8,
   "metadata": {
    "collapsed": true
   },
   "outputs": [],
   "source": [
    "## Sample showing some decays\n",
    "#\n",
    "'''\n",
    "#<event>\n",
    "#11      1 +2.0701000e-05 2.31280300e+02 7.81860800e-03 1.13300500e-01\n",
    "#       21 -1    0    0  505  504 +0.0000000000e+00 +0.0000000000e+00 +1.4094688243e+02 1.4094688243e+02 0.0000000000e+00 0.0000e+00 1.0000e+00\n",
    "#       21 -1    0    0  503  505 -0.0000000000e+00 -0.0000000000e+00 -4.0829194094e+02 4.0829194094e+02 0.0000000000e+00 0.0000e+00 -1.0000e+00\n",
    "#        6  2    1    2  503    0 +1.4618203726e+02 +4.7895145873e+01 -2.0961478162e+02 3.1213608086e+02 1.7270623406e+02 0.0000e+00 0.0000e+00\n",
    "#       -6  2    1    2    0  504 -1.4618203726e+02 -4.7895145873e+01 -5.7730276890e+01 2.3710274251e+02 1.7094382884e+02 0.0000e+00 0.0000e+00\n",
    "#      -24  2    4    4    0    0 -4.6911039134e+01 +3.4432144994e+01 -2.8185581484e+01 1.0471130428e+02 8.2363900094e+01 0.0000e+00 0.0000e+00\n",
    "#       -5  1    3    3    0  501 +7.6319226347e+01 -1.0790619659e+01 -1.4288904741e+02 1.6242053951e+02 4.7000000000e+00 0.0000e+00 -1.0000e+00\n",
    "#       -4  1    3    3    0  502 +2.9928146279e+01 -1.5327064351e+01 -5.5449699099e+01 6.4863690702e+01 1.4200000000e+00 0.0000e+00 1.0000e+00\n",
    "#      -13  1    3    3    0    0 +3.9934664628e+01 +7.4012829883e+01 -1.1276035107e+01 8.4851850646e+01 1.0566000000e-01 0.0000e+00 1.0000e+00\n",
    "#      -12  1    5    5    0    0 -3.8802536483e+01 -6.2616821453e+00 +1.7474356577e+01 4.3013935400e+01 0.0000000000e+00 0.0000e+00 1.0000e+00\n",
    "#       11  1    5    5    0    0 -8.1085026506e+00 +4.0693827139e+01 -4.5659938062e+01 6.1697368878e+01 5.1100000000e-04 0.0000e+00 -1.0000e+00\n",
    "#       -5  1    4    4    0  504 -9.9270998121e+01 -8.2327290867e+01 -2.9544695405e+01 1.3239143823e+02 4.7000000000e+00 0.0000e+00 1.0000e+00\n",
    "#<mgrwt>\n",
    "''';"
   ]
  },
  {
   "cell_type": "code",
   "execution_count": null,
   "metadata": {
    "collapsed": true
   },
   "outputs": [],
   "source": []
  }
 ],
 "metadata": {
  "kernelspec": {
   "display_name": "Python 3",
   "language": "python",
   "name": "python3"
  },
  "language_info": {
   "codemirror_mode": {
    "name": "ipython",
    "version": 3
   },
   "file_extension": ".py",
   "mimetype": "text/x-python",
   "name": "python",
   "nbconvert_exporter": "python",
   "pygments_lexer": "ipython3",
   "version": "3.6.1"
  }
 },
 "nbformat": 4,
 "nbformat_minor": 2
}
